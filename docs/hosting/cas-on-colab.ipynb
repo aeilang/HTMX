{
  "nbformat": 4,
  "nbformat_minor": 0,
  "metadata": {
    "colab": {
      "name": "cas-on-colab.ipynb",
      "provenance": []
    },
    "kernelspec": {
      "name": "python3",
      "display_name": "Python 3"
    },
    "language_info": {
      "name": "python"
    },
    "accelerator": "GPU",
    "widgets": {
      "application/vnd.jupyter.widget-state+json": {
        "4419033732fa4e18b345c97daa399a78": {
          "model_module": "@jupyter-widgets/output",
          "model_name": "OutputModel",
          "model_module_version": "1.0.0",
          "state": {
            "_dom_classes": [],
            "_model_module": "@jupyter-widgets/output",
            "_model_module_version": "1.0.0",
            "_model_name": "OutputModel",
            "_view_count": null,
            "_view_module": "@jupyter-widgets/output",
            "_view_module_version": "1.0.0",
            "_view_name": "OutputView",
            "layout": "IPY_MODEL_6c20294b25554e4ea89fb1b08011af4d",
            "msg_id": "",
            "outputs": [
              {
                "output_type": "display_data",
                "data": {
                  "text/plain": "\u001b[32m⠹\u001b[0m Waiting \u001b[1mclip_t\u001b[0m... \u001b[38;2;249;38;114m━━━━━━━━━━━━━━━━━━━━\u001b[0m\u001b[38;5;237m╺\u001b[0m\u001b[38;5;237m━━━━━━━━━━━━━━━━━━━\u001b[0m \u001b[32m1/2\u001b[0m \u001b[33m0:00:36\u001b[0m\n",
                  "text/html": "<pre style=\"white-space:pre;overflow-x:auto;line-height:normal;font-family:Menlo,'DejaVu Sans Mono',consolas,'Courier New',monospace\"><span style=\"color: #008000; text-decoration-color: #008000\">⠹</span> Waiting <span style=\"font-weight: bold\">clip_t</span>... <span style=\"color: #f92672; text-decoration-color: #f92672\">━━━━━━━━━━━━━━━━━━━━</span><span style=\"color: #3a3a3a; text-decoration-color: #3a3a3a\">╺━━━━━━━━━━━━━━━━━━━</span> <span style=\"color: #008000; text-decoration-color: #008000\">1/2</span> <span style=\"color: #808000; text-decoration-color: #808000\">0:00:36</span>\n</pre>\n"
                },
                "metadata": {}
              }
            ]
          }
        },
        "6c20294b25554e4ea89fb1b08011af4d": {
          "model_module": "@jupyter-widgets/base",
          "model_name": "LayoutModel",
          "model_module_version": "1.2.0",
          "state": {
            "_model_module": "@jupyter-widgets/base",
            "_model_module_version": "1.2.0",
            "_model_name": "LayoutModel",
            "_view_count": null,
            "_view_module": "@jupyter-widgets/base",
            "_view_module_version": "1.2.0",
            "_view_name": "LayoutView",
            "align_content": null,
            "align_items": null,
            "align_self": null,
            "border": null,
            "bottom": null,
            "display": null,
            "flex": null,
            "flex_flow": null,
            "grid_area": null,
            "grid_auto_columns": null,
            "grid_auto_flow": null,
            "grid_auto_rows": null,
            "grid_column": null,
            "grid_gap": null,
            "grid_row": null,
            "grid_template_areas": null,
            "grid_template_columns": null,
            "grid_template_rows": null,
            "height": null,
            "justify_content": null,
            "justify_items": null,
            "left": null,
            "margin": null,
            "max_height": null,
            "max_width": null,
            "min_height": null,
            "min_width": null,
            "object_fit": null,
            "object_position": null,
            "order": null,
            "overflow": null,
            "overflow_x": null,
            "overflow_y": null,
            "padding": null,
            "right": null,
            "top": null,
            "visibility": null,
            "width": null
          }
        },
        "e606bd0809224985a7fc2386d9a9980a": {
          "model_module": "@jupyter-widgets/output",
          "model_name": "OutputModel",
          "model_module_version": "1.0.0",
          "state": {
            "_dom_classes": [],
            "_model_module": "@jupyter-widgets/output",
            "_model_module_version": "1.0.0",
            "_model_name": "OutputModel",
            "_view_count": null,
            "_view_module": "@jupyter-widgets/output",
            "_view_module_version": "1.0.0",
            "_view_name": "OutputView",
            "layout": "IPY_MODEL_7715d0858e0e4133a748d98ac9e8bf06",
            "msg_id": "",
            "outputs": [
              {
                "output_type": "display_data",
                "data": {
                  "text/plain": "  \u001b[1;34mViT-B-32.pt\u001b[0m \u001b[35m100.0%\u001b[0m • \u001b[32m354.0/354.0 MB\u001b[0m • \u001b[31m37.4 MB/s\u001b[0m • \u001b[36m0:00:00\u001b[0m\n                                                           \n",
                  "text/html": "<pre style=\"white-space:pre;overflow-x:auto;line-height:normal;font-family:Menlo,'DejaVu Sans Mono',consolas,'Courier New',monospace\">  <span style=\"color: #000080; text-decoration-color: #000080; font-weight: bold\">ViT-B-32.pt</span> <span style=\"color: #800080; text-decoration-color: #800080\">100.0%</span> • <span style=\"color: #008000; text-decoration-color: #008000\">354.0/354.0 MB</span> • <span style=\"color: #800000; text-decoration-color: #800000\">37.4 MB/s</span> • <span style=\"color: #008080; text-decoration-color: #008080\">0:00:00</span>\n                                                           \n</pre>\n"
                },
                "metadata": {}
              }
            ]
          }
        },
        "7715d0858e0e4133a748d98ac9e8bf06": {
          "model_module": "@jupyter-widgets/base",
          "model_name": "LayoutModel",
          "model_module_version": "1.2.0",
          "state": {
            "_model_module": "@jupyter-widgets/base",
            "_model_module_version": "1.2.0",
            "_model_name": "LayoutModel",
            "_view_count": null,
            "_view_module": "@jupyter-widgets/base",
            "_view_module_version": "1.2.0",
            "_view_name": "LayoutView",
            "align_content": null,
            "align_items": null,
            "align_self": null,
            "border": null,
            "bottom": null,
            "display": null,
            "flex": null,
            "flex_flow": null,
            "grid_area": null,
            "grid_auto_columns": null,
            "grid_auto_flow": null,
            "grid_auto_rows": null,
            "grid_column": null,
            "grid_gap": null,
            "grid_row": null,
            "grid_template_areas": null,
            "grid_template_columns": null,
            "grid_template_rows": null,
            "height": null,
            "justify_content": null,
            "justify_items": null,
            "left": null,
            "margin": null,
            "max_height": null,
            "max_width": null,
            "min_height": null,
            "min_width": null,
            "object_fit": null,
            "object_position": null,
            "order": null,
            "overflow": null,
            "overflow_x": null,
            "overflow_y": null,
            "padding": null,
            "right": null,
            "top": null,
            "visibility": null,
            "width": null
          }
        }
      }
    }
  },
  "cells": [
    {
      "cell_type": "markdown",
      "source": [
        "# Hosting CLIP-as-service on Google Colab with TPU/GPU support\n",
        "\n",
        "This tutorial guides you on how to implement the following architecture:\n",
        "\n",
        "[![](https://mermaid.ink/img/pako:eNp1kEFrwzAMhf-K0bkh99xGVwpjh9Ctp7oMxVYTM8cOttwy2v732fMGgzFd9Hjvk0C6gvKaoIMx4DKJ5510IldMQzW23o-WxNpbHMRBlXasSCmF8S1SOFNommbb79vXfl9TcrqKh0OBlDXk-Cgydht3_bqdmJf2QkP06p349mtTHXvCM0YVzMJfMwX_C6kU7L8xrGCmMKPR-bprcSTwRDNJ6LLUdMJkWYJ094ymRSPTRhv2AboT2kgrwMT-5cMp6Dgk-oEeDebfzN_U_RP7v2yd)](https://mermaid.live/edit#pako:eNp1kEFrwzAMhf-K0bkh99xGVwpjh9Ctp7oMxVYTM8cOttwy2v732fMGgzFd9Hjvk0C6gvKaoIMx4DKJ5510IldMQzW23o-WxNpbHMRBlXasSCmF8S1SOFNommbb79vXfl9TcrqKh0OBlDXk-Cgydht3_bqdmJf2QkP06p349mtTHXvCM0YVzMJfMwX_C6kU7L8xrGCmMKPR-bprcSTwRDNJ6LLUdMJkWYJ094ymRSPTRhv2AboT2kgrwMT-5cMp6Dgk-oEeDebfzN_U_RP7v2yd)\n",
        "\n",
        "CLIP-as-service is powered by Jina, [there is another tutorial showing you how to host Jina service on Colab in general](https://colab.research.google.com/github/jina-ai/jina/blob/master/docs/Using_Jina_on_Colab.ipynb). Highly recommended!\n",
        "\n",
        "\n",
        "## 1. Change runtime type\n",
        "\n",
        "Go to menu `Runtime -> Change run time type -> GPU/TPU`\n",
        "\n",
        "\n",
        "## 2. Install Packages\n",
        "\n",
        "As we will run the client locally, we only need to install `clip_server` package on Colab.\n",
        "\n",
        "\n",
        "**⚠️ You will be asked to \"Restart Runtime\" after this step, please click the button and restart the runtime.**"
      ],
      "metadata": {
        "id": "lbUpcvs1p1CF",
        "pycharm": {
          "name": "#%% md\n"
        }
      }
    },
    {
      "cell_type": "code",
      "execution_count": 1,
      "metadata": {
        "id": "MRrB2If6kDfX",
        "pycharm": {
          "name": "#%%\n"
        },
        "outputId": "64afeea9-6e77-4965-fd49-0086456d29d7",
        "colab": {
          "base_uri": "https://localhost:8080/"
        }
      },
      "outputs": [
        {
          "output_type": "stream",
          "name": "stdout",
          "text": [
            "Requirement already satisfied: clip_server in /usr/local/lib/python3.11/dist-packages (0.8.3)\n",
            "Requirement already satisfied: pyngrok in /usr/local/lib/python3.11/dist-packages (7.2.4)\n",
            "Requirement already satisfied: ftfy in /usr/local/lib/python3.11/dist-packages (from clip_server) (6.3.1)\n",
            "Requirement already satisfied: torch in /usr/local/lib/python3.11/dist-packages (from clip_server) (2.6.0+cu124)\n",
            "Requirement already satisfied: regex in /usr/local/lib/python3.11/dist-packages (from clip_server) (2024.11.6)\n",
            "Requirement already satisfied: torchvision in /usr/local/lib/python3.11/dist-packages (from clip_server) (0.21.0+cu124)\n",
            "Requirement already satisfied: jina>=3.12.0 in /usr/local/lib/python3.11/dist-packages (from clip_server) (3.27.20)\n",
            "Requirement already satisfied: docarray==0.21.0 in /usr/local/lib/python3.11/dist-packages (from clip_server) (0.21.0)\n",
            "Requirement already satisfied: prometheus-client in /usr/local/lib/python3.11/dist-packages (from clip_server) (0.21.1)\n",
            "Requirement already satisfied: open-clip-torch<2.9.0,>=2.8.0 in /usr/local/lib/python3.11/dist-packages (from clip_server) (2.8.2)\n",
            "Requirement already satisfied: pillow-avif-plugin in /usr/local/lib/python3.11/dist-packages (from clip_server) (1.5.1)\n",
            "Requirement already satisfied: numpy in /usr/local/lib/python3.11/dist-packages (from docarray==0.21.0->clip_server) (2.0.2)\n",
            "Requirement already satisfied: rich>=12.0.0 in /usr/local/lib/python3.11/dist-packages (from docarray==0.21.0->clip_server) (13.9.4)\n",
            "Requirement already satisfied: jina-hubble-sdk>=0.24.0 in /usr/local/lib/python3.11/dist-packages (from docarray==0.21.0->clip_server) (0.39.0)\n",
            "Requirement already satisfied: PyYAML>=5.1 in /usr/local/lib/python3.11/dist-packages (from pyngrok) (6.0.2)\n",
            "Requirement already satisfied: opentelemetry-api>=1.12.0 in /usr/local/lib/python3.11/dist-packages (from jina>=3.12.0->clip_server) (1.19.0)\n",
            "Requirement already satisfied: grpcio<=1.57.0,>=1.46.0 in /usr/local/lib/python3.11/dist-packages (from jina>=3.12.0->clip_server) (1.57.0)\n",
            "Requirement already satisfied: opentelemetry-exporter-prometheus>=0.33b0 in /usr/local/lib/python3.11/dist-packages (from jina>=3.12.0->clip_server) (0.41b0)\n",
            "Requirement already satisfied: uvicorn<=0.23.1 in /usr/local/lib/python3.11/dist-packages (from uvicorn[standard]<=0.23.1->jina>=3.12.0->clip_server) (0.23.1)\n",
            "Requirement already satisfied: pydantic<2.0.0 in /usr/local/lib/python3.11/dist-packages (from jina>=3.12.0->clip_server) (1.10.21)\n",
            "Requirement already satisfied: aiofiles in /usr/local/lib/python3.11/dist-packages (from jina>=3.12.0->clip_server) (24.1.0)\n",
            "Requirement already satisfied: opentelemetry-sdk<1.20.0,>=1.14.0 in /usr/local/lib/python3.11/dist-packages (from jina>=3.12.0->clip_server) (1.19.0)\n",
            "Requirement already satisfied: opentelemetry-exporter-otlp-proto-grpc>=1.13.0 in /usr/local/lib/python3.11/dist-packages (from jina>=3.12.0->clip_server) (1.19.0)\n",
            "Requirement already satisfied: opentelemetry-exporter-otlp>=1.12.0 in /usr/local/lib/python3.11/dist-packages (from jina>=3.12.0->clip_server) (1.19.0)\n",
            "Requirement already satisfied: jcloud>=0.0.35 in /usr/local/lib/python3.11/dist-packages (from jina>=3.12.0->clip_server) (0.3)\n",
            "Requirement already satisfied: pathspec in /usr/local/lib/python3.11/dist-packages (from jina>=3.12.0->clip_server) (0.12.1)\n",
            "Requirement already satisfied: aiohttp in /usr/local/lib/python3.11/dist-packages (from jina>=3.12.0->clip_server) (3.11.15)\n",
            "Requirement already satisfied: grpcio-reflection<=1.57.0,>=1.46.0 in /usr/local/lib/python3.11/dist-packages (from jina>=3.12.0->clip_server) (1.48.2)\n",
            "Requirement already satisfied: urllib3<2.0.0,>=1.25.9 in /usr/local/lib/python3.11/dist-packages (from jina>=3.12.0->clip_server) (1.26.20)\n",
            "Requirement already satisfied: fastapi>=0.76.0 in /usr/local/lib/python3.11/dist-packages (from jina>=3.12.0->clip_server) (0.115.12)\n",
            "Requirement already satisfied: filelock in /usr/local/lib/python3.11/dist-packages (from jina>=3.12.0->clip_server) (3.18.0)\n",
            "Requirement already satisfied: python-multipart in /usr/local/lib/python3.11/dist-packages (from jina>=3.12.0->clip_server) (0.0.20)\n",
            "Requirement already satisfied: grpcio-health-checking<=1.57.0,>=1.46.0 in /usr/local/lib/python3.11/dist-packages (from jina>=3.12.0->clip_server) (1.48.2)\n",
            "Requirement already satisfied: protobuf>=3.19.0 in /usr/local/lib/python3.11/dist-packages (from jina>=3.12.0->clip_server) (3.20.3)\n",
            "Requirement already satisfied: opentelemetry-instrumentation-aiohttp-client>=0.33b0 in /usr/local/lib/python3.11/dist-packages (from jina>=3.12.0->clip_server) (0.40b0)\n",
            "Requirement already satisfied: packaging>=20.0 in /usr/local/lib/python3.11/dist-packages (from jina>=3.12.0->clip_server) (24.2)\n",
            "Requirement already satisfied: requests in /usr/local/lib/python3.11/dist-packages (from jina>=3.12.0->clip_server) (2.32.3)\n",
            "Requirement already satisfied: websockets in /usr/local/lib/python3.11/dist-packages (from jina>=3.12.0->clip_server) (15.0.1)\n",
            "Requirement already satisfied: opentelemetry-instrumentation-fastapi>=0.33b0 in /usr/local/lib/python3.11/dist-packages (from jina>=3.12.0->clip_server) (0.40b0)\n",
            "Requirement already satisfied: docker in /usr/local/lib/python3.11/dist-packages (from jina>=3.12.0->clip_server) (7.1.0)\n",
            "Requirement already satisfied: opentelemetry-instrumentation-grpc>=0.35b0 in /usr/local/lib/python3.11/dist-packages (from jina>=3.12.0->clip_server) (0.40b0)\n",
            "Requirement already satisfied: uvloop in /usr/local/lib/python3.11/dist-packages (from jina>=3.12.0->clip_server) (0.21.0)\n",
            "Requirement already satisfied: tqdm in /usr/local/lib/python3.11/dist-packages (from open-clip-torch<2.9.0,>=2.8.0->clip_server) (4.67.1)\n",
            "Requirement already satisfied: huggingface-hub in /usr/local/lib/python3.11/dist-packages (from open-clip-torch<2.9.0,>=2.8.0->clip_server) (0.30.2)\n",
            "Requirement already satisfied: sentencepiece in /usr/local/lib/python3.11/dist-packages (from open-clip-torch<2.9.0,>=2.8.0->clip_server) (0.2.0)\n",
            "Requirement already satisfied: typing-extensions>=4.10.0 in /usr/local/lib/python3.11/dist-packages (from torch->clip_server) (4.13.1)\n",
            "Requirement already satisfied: networkx in /usr/local/lib/python3.11/dist-packages (from torch->clip_server) (3.4.2)\n",
            "Requirement already satisfied: jinja2 in /usr/local/lib/python3.11/dist-packages (from torch->clip_server) (3.1.6)\n",
            "Requirement already satisfied: fsspec in /usr/local/lib/python3.11/dist-packages (from torch->clip_server) (2025.3.2)\n",
            "Requirement already satisfied: nvidia-cuda-nvrtc-cu12==12.4.127 in /usr/local/lib/python3.11/dist-packages (from torch->clip_server) (12.4.127)\n",
            "Requirement already satisfied: nvidia-cuda-runtime-cu12==12.4.127 in /usr/local/lib/python3.11/dist-packages (from torch->clip_server) (12.4.127)\n",
            "Requirement already satisfied: nvidia-cuda-cupti-cu12==12.4.127 in /usr/local/lib/python3.11/dist-packages (from torch->clip_server) (12.4.127)\n",
            "Requirement already satisfied: nvidia-cudnn-cu12==9.1.0.70 in /usr/local/lib/python3.11/dist-packages (from torch->clip_server) (9.1.0.70)\n",
            "Requirement already satisfied: nvidia-cublas-cu12==12.4.5.8 in /usr/local/lib/python3.11/dist-packages (from torch->clip_server) (12.4.5.8)\n",
            "Requirement already satisfied: nvidia-cufft-cu12==11.2.1.3 in /usr/local/lib/python3.11/dist-packages (from torch->clip_server) (11.2.1.3)\n",
            "Requirement already satisfied: nvidia-curand-cu12==10.3.5.147 in /usr/local/lib/python3.11/dist-packages (from torch->clip_server) (10.3.5.147)\n",
            "Requirement already satisfied: nvidia-cusolver-cu12==11.6.1.9 in /usr/local/lib/python3.11/dist-packages (from torch->clip_server) (11.6.1.9)\n",
            "Requirement already satisfied: nvidia-cusparse-cu12==12.3.1.170 in /usr/local/lib/python3.11/dist-packages (from torch->clip_server) (12.3.1.170)\n",
            "Requirement already satisfied: nvidia-cusparselt-cu12==0.6.2 in /usr/local/lib/python3.11/dist-packages (from torch->clip_server) (0.6.2)\n",
            "Requirement already satisfied: nvidia-nccl-cu12==2.21.5 in /usr/local/lib/python3.11/dist-packages (from torch->clip_server) (2.21.5)\n",
            "Requirement already satisfied: nvidia-nvtx-cu12==12.4.127 in /usr/local/lib/python3.11/dist-packages (from torch->clip_server) (12.4.127)\n",
            "Requirement already satisfied: nvidia-nvjitlink-cu12==12.4.127 in /usr/local/lib/python3.11/dist-packages (from torch->clip_server) (12.4.127)\n",
            "Requirement already satisfied: triton==3.2.0 in /usr/local/lib/python3.11/dist-packages (from torch->clip_server) (3.2.0)\n",
            "Requirement already satisfied: sympy==1.13.1 in /usr/local/lib/python3.11/dist-packages (from torch->clip_server) (1.13.1)\n",
            "Requirement already satisfied: mpmath<1.4,>=1.1.0 in /usr/local/lib/python3.11/dist-packages (from sympy==1.13.1->torch->clip_server) (1.3.0)\n",
            "Requirement already satisfied: wcwidth in /usr/local/lib/python3.11/dist-packages (from ftfy->clip_server) (0.2.13)\n",
            "Requirement already satisfied: pillow!=8.3.*,>=5.3.0 in /usr/local/lib/python3.11/dist-packages (from torchvision->clip_server) (11.1.0)\n",
            "Requirement already satisfied: starlette<0.47.0,>=0.40.0 in /usr/local/lib/python3.11/dist-packages (from fastapi>=0.76.0->jina>=3.12.0->clip_server) (0.46.2)\n",
            "Requirement already satisfied: python-dotenv in /usr/local/lib/python3.11/dist-packages (from jcloud>=0.0.35->jina>=3.12.0->clip_server) (1.1.0)\n",
            "Requirement already satisfied: python-dateutil in /usr/local/lib/python3.11/dist-packages (from jcloud>=0.0.35->jina>=3.12.0->clip_server) (2.8.2)\n",
            "Requirement already satisfied: aiohappyeyeballs>=2.3.0 in /usr/local/lib/python3.11/dist-packages (from aiohttp->jina>=3.12.0->clip_server) (2.6.1)\n",
            "Requirement already satisfied: aiosignal>=1.1.2 in /usr/local/lib/python3.11/dist-packages (from aiohttp->jina>=3.12.0->clip_server) (1.3.2)\n",
            "Requirement already satisfied: attrs>=17.3.0 in /usr/local/lib/python3.11/dist-packages (from aiohttp->jina>=3.12.0->clip_server) (25.3.0)\n",
            "Requirement already satisfied: frozenlist>=1.1.1 in /usr/local/lib/python3.11/dist-packages (from aiohttp->jina>=3.12.0->clip_server) (1.5.0)\n",
            "Requirement already satisfied: multidict<7.0,>=4.5 in /usr/local/lib/python3.11/dist-packages (from aiohttp->jina>=3.12.0->clip_server) (6.4.2)\n",
            "Requirement already satisfied: propcache>=0.2.0 in /usr/local/lib/python3.11/dist-packages (from aiohttp->jina>=3.12.0->clip_server) (0.3.1)\n",
            "Requirement already satisfied: yarl<2.0,>=1.17.0 in /usr/local/lib/python3.11/dist-packages (from aiohttp->jina>=3.12.0->clip_server) (1.19.0)\n",
            "Requirement already satisfied: importlib-metadata in /usr/local/lib/python3.11/dist-packages (from jina-hubble-sdk>=0.24.0->docarray==0.21.0->clip_server) (6.11.0)\n",
            "Requirement already satisfied: python-jose in /usr/local/lib/python3.11/dist-packages (from jina-hubble-sdk>=0.24.0->docarray==0.21.0->clip_server) (3.4.0)\n",
            "Requirement already satisfied: deprecated>=1.2.6 in /usr/local/lib/python3.11/dist-packages (from opentelemetry-api>=1.12.0->jina>=3.12.0->clip_server) (1.2.18)\n",
            "Requirement already satisfied: opentelemetry-exporter-otlp-proto-http==1.19.0 in /usr/local/lib/python3.11/dist-packages (from opentelemetry-exporter-otlp>=1.12.0->jina>=3.12.0->clip_server) (1.19.0)\n",
            "Requirement already satisfied: backoff<3.0.0,>=1.10.0 in /usr/local/lib/python3.11/dist-packages (from opentelemetry-exporter-otlp-proto-grpc>=1.13.0->jina>=3.12.0->clip_server) (2.2.1)\n",
            "Requirement already satisfied: googleapis-common-protos~=1.52 in /usr/local/lib/python3.11/dist-packages (from opentelemetry-exporter-otlp-proto-grpc>=1.13.0->jina>=3.12.0->clip_server) (1.69.2)\n",
            "Requirement already satisfied: opentelemetry-exporter-otlp-proto-common==1.19.0 in /usr/local/lib/python3.11/dist-packages (from opentelemetry-exporter-otlp-proto-grpc>=1.13.0->jina>=3.12.0->clip_server) (1.19.0)\n",
            "Requirement already satisfied: opentelemetry-proto==1.19.0 in /usr/local/lib/python3.11/dist-packages (from opentelemetry-exporter-otlp-proto-grpc>=1.13.0->jina>=3.12.0->clip_server) (1.19.0)\n",
            "Requirement already satisfied: opentelemetry-instrumentation==0.40b0 in /usr/local/lib/python3.11/dist-packages (from opentelemetry-instrumentation-aiohttp-client>=0.33b0->jina>=3.12.0->clip_server) (0.40b0)\n",
            "Requirement already satisfied: opentelemetry-semantic-conventions==0.40b0 in /usr/local/lib/python3.11/dist-packages (from opentelemetry-instrumentation-aiohttp-client>=0.33b0->jina>=3.12.0->clip_server) (0.40b0)\n",
            "Requirement already satisfied: opentelemetry-util-http==0.40b0 in /usr/local/lib/python3.11/dist-packages (from opentelemetry-instrumentation-aiohttp-client>=0.33b0->jina>=3.12.0->clip_server) (0.40b0)\n",
            "Requirement already satisfied: wrapt<2.0.0,>=1.0.0 in /usr/local/lib/python3.11/dist-packages (from opentelemetry-instrumentation-aiohttp-client>=0.33b0->jina>=3.12.0->clip_server) (1.17.2)\n",
            "Requirement already satisfied: setuptools>=16.0 in /usr/local/lib/python3.11/dist-packages (from opentelemetry-instrumentation==0.40b0->opentelemetry-instrumentation-aiohttp-client>=0.33b0->jina>=3.12.0->clip_server) (75.2.0)\n",
            "Requirement already satisfied: opentelemetry-instrumentation-asgi==0.40b0 in /usr/local/lib/python3.11/dist-packages (from opentelemetry-instrumentation-fastapi>=0.33b0->jina>=3.12.0->clip_server) (0.40b0)\n",
            "Requirement already satisfied: asgiref~=3.0 in /usr/local/lib/python3.11/dist-packages (from opentelemetry-instrumentation-asgi==0.40b0->opentelemetry-instrumentation-fastapi>=0.33b0->jina>=3.12.0->clip_server) (3.8.1)\n",
            "Requirement already satisfied: charset-normalizer<4,>=2 in /usr/local/lib/python3.11/dist-packages (from requests->jina>=3.12.0->clip_server) (3.4.1)\n",
            "Requirement already satisfied: idna<4,>=2.5 in /usr/local/lib/python3.11/dist-packages (from requests->jina>=3.12.0->clip_server) (3.10)\n",
            "Requirement already satisfied: certifi>=2017.4.17 in /usr/local/lib/python3.11/dist-packages (from requests->jina>=3.12.0->clip_server) (2025.1.31)\n",
            "Requirement already satisfied: markdown-it-py>=2.2.0 in /usr/local/lib/python3.11/dist-packages (from rich>=12.0.0->docarray==0.21.0->clip_server) (3.0.0)\n",
            "Requirement already satisfied: pygments<3.0.0,>=2.13.0 in /usr/local/lib/python3.11/dist-packages (from rich>=12.0.0->docarray==0.21.0->clip_server) (2.18.0)\n",
            "Requirement already satisfied: click>=7.0 in /usr/local/lib/python3.11/dist-packages (from uvicorn<=0.23.1->uvicorn[standard]<=0.23.1->jina>=3.12.0->clip_server) (8.1.8)\n",
            "Requirement already satisfied: h11>=0.8 in /usr/local/lib/python3.11/dist-packages (from uvicorn<=0.23.1->uvicorn[standard]<=0.23.1->jina>=3.12.0->clip_server) (0.14.0)\n",
            "Requirement already satisfied: httptools>=0.5.0 in /usr/local/lib/python3.11/dist-packages (from uvicorn[standard]<=0.23.1->jina>=3.12.0->clip_server) (0.6.4)\n",
            "Requirement already satisfied: watchfiles>=0.13 in /usr/local/lib/python3.11/dist-packages (from uvicorn[standard]<=0.23.1->jina>=3.12.0->clip_server) (1.0.5)\n",
            "Requirement already satisfied: MarkupSafe>=2.0 in /usr/local/lib/python3.11/dist-packages (from jinja2->torch->clip_server) (3.0.2)\n",
            "Requirement already satisfied: zipp>=0.5 in /usr/local/lib/python3.11/dist-packages (from importlib-metadata->jina-hubble-sdk>=0.24.0->docarray==0.21.0->clip_server) (3.21.0)\n",
            "Requirement already satisfied: mdurl~=0.1 in /usr/local/lib/python3.11/dist-packages (from markdown-it-py>=2.2.0->rich>=12.0.0->docarray==0.21.0->clip_server) (0.1.2)\n",
            "Requirement already satisfied: anyio<5,>=3.6.2 in /usr/local/lib/python3.11/dist-packages (from starlette<0.47.0,>=0.40.0->fastapi>=0.76.0->jina>=3.12.0->clip_server) (4.9.0)\n",
            "Requirement already satisfied: six>=1.5 in /usr/local/lib/python3.11/dist-packages (from python-dateutil->jcloud>=0.0.35->jina>=3.12.0->clip_server) (1.17.0)\n",
            "Requirement already satisfied: ecdsa!=0.15 in /usr/local/lib/python3.11/dist-packages (from python-jose->jina-hubble-sdk>=0.24.0->docarray==0.21.0->clip_server) (0.19.1)\n",
            "Requirement already satisfied: rsa!=4.1.1,!=4.4,<5.0,>=4.0 in /usr/local/lib/python3.11/dist-packages (from python-jose->jina-hubble-sdk>=0.24.0->docarray==0.21.0->clip_server) (4.9)\n",
            "Requirement already satisfied: pyasn1<0.5.0,>=0.4.1 in /usr/local/lib/python3.11/dist-packages (from python-jose->jina-hubble-sdk>=0.24.0->docarray==0.21.0->clip_server) (0.4.8)\n",
            "Requirement already satisfied: sniffio>=1.1 in /usr/local/lib/python3.11/dist-packages (from anyio<5,>=3.6.2->starlette<0.47.0,>=0.40.0->fastapi>=0.76.0->jina>=3.12.0->clip_server) (1.3.1)\n"
          ]
        }
      ],
      "source": [
        "!pip install clip_server pyngrok"
      ]
    },
    {
      "cell_type": "markdown",
      "source": [
        "## 3. Config Flow YAML\n",
        "\n",
        "\n",
        "Unlike classic entrypoint from CLI, here we need to start the Flow in Python. Let's load use Pytorch backend and write a Flow YAML. Note that we need to load the torch Python file from `clip_server` installation, hence you see `cas_path` below. More available options [can be found here](https://github.com/jina-ai/clip-as-service/tree/main/server/clip_server/executors)."
      ],
      "metadata": {
        "id": "q3bmGKIvx5S-",
        "pycharm": {
          "name": "#%% md\n"
        }
      }
    },
    {
      "cell_type": "code",
      "source": [
        "import clip_server\n",
        "cas_path = clip_server.__path__[0]"
      ],
      "metadata": {
        "id": "nypR4g9EmgOj",
        "pycharm": {
          "name": "#%%\n"
        }
      },
      "execution_count": 2,
      "outputs": []
    },
    {
      "cell_type": "markdown",
      "source": [
        "This YAML is directly [taken from this file](https://github.com/jina-ai/clip-as-service/blob/main/server/clip_server/torch-flow.yml). You can also customize it as you wish, [please check CLIP-as-service docs](https://clip-as-service.jina.ai/user-guides/server/#yaml-config)."
      ],
      "metadata": {
        "id": "5RVA1OD8ywOo",
        "pycharm": {
          "name": "#%% md\n"
        }
      }
    },
    {
      "cell_type": "code",
      "source": [
        "flow_yaml = f'''\n",
        "jtype: Flow\n",
        "with:\n",
        "  port: 51000\n",
        "executors:\n",
        "  - name: clip_t\n",
        "    uses:\n",
        "      jtype: CLIPEncoder\n",
        "      metas:\n",
        "        py_modules:\n",
        "          - {cas_path}/executors/clip_torch.py\n",
        "'''"
      ],
      "metadata": {
        "id": "q1BXWnXVkIZ8",
        "pycharm": {
          "name": "#%%\n"
        }
      },
      "execution_count": 3,
      "outputs": []
    },
    {
      "cell_type": "code",
      "source": [
        "flow_yaml"
      ],
      "metadata": {
        "colab": {
          "base_uri": "https://localhost:8080/",
          "height": 52
        },
        "id": "Fb1PKf992rLj",
        "outputId": "dfbf0a69-e432-4138-efc3-f49625fbef7c",
        "pycharm": {
          "name": "#%%\n"
        }
      },
      "execution_count": 4,
      "outputs": [
        {
          "output_type": "execute_result",
          "data": {
            "text/plain": [
              "'\\njtype: Flow\\nwith:\\n  port: 51000\\nexecutors:\\n  - name: clip_t\\n    uses:\\n      jtype: CLIPEncoder\\n      metas:\\n        py_modules:\\n          - /usr/local/lib/python3.11/dist-packages/clip_server/executors/clip_torch.py\\n'"
            ],
            "application/vnd.google.colaboratory.intrinsic+json": {
              "type": "string"
            }
          },
          "metadata": {},
          "execution_count": 4
        }
      ]
    },
    {
      "cell_type": "markdown",
      "source": [
        "## 4. Start the Flow\n",
        "\n",
        "It may take a minute or so on the first start, as it will download the pretrained models. To select different pretrained models, [please check CLIP-as-service docs](https://clip-as-service.jina.ai/user-guides/server/#yaml-config)."
      ],
      "metadata": {
        "id": "GvAeaUf4y88e",
        "pycharm": {
          "name": "#%% md\n"
        }
      }
    },
    {
      "cell_type": "code",
      "source": [
        "from jina import Flow\n",
        "\n",
        "f = Flow.load_config(flow_yaml)\n",
        "f.start()"
      ],
      "metadata": {
        "id": "4UubypFpl8-K",
        "pycharm": {
          "name": "#%%\n"
        },
        "outputId": "e88a2ebd-937a-4643-a1ad-e7c59b1e9c9a",
        "colab": {
          "base_uri": "https://localhost:8080/",
          "height": 366,
          "referenced_widgets": [
            "4419033732fa4e18b345c97daa399a78",
            "6c20294b25554e4ea89fb1b08011af4d",
            "e606bd0809224985a7fc2386d9a9980a",
            "7715d0858e0e4133a748d98ac9e8bf06"
          ]
        }
      },
      "execution_count": 5,
      "outputs": [
        {
          "output_type": "display_data",
          "data": {
            "text/plain": [
              "\u001b[1;33mRuntimeWarning: coroutine 'Flow._wait_until_all_ready.<locals>._f' was never awaited\u001b[0m \u001b[1;30m(raised from \u001b[0m\n",
              "\u001b[1;30m/usr/local/lib/python3.11/dist-packages/jina/orchestrate/flow/base.py:1999)\u001b[0m\n"
            ],
            "text/html": [
              "<pre style=\"white-space:pre;overflow-x:auto;line-height:normal;font-family:Menlo,'DejaVu Sans Mono',consolas,'Courier New',monospace\"><span style=\"color: #808000; text-decoration-color: #808000; font-weight: bold\">RuntimeWarning: coroutine 'Flow._wait_until_all_ready.&lt;locals&gt;._f' was never awaited</span> <span style=\"color: #000000; text-decoration-color: #000000; font-weight: bold\">(raised from </span>\n",
              "<span style=\"color: #000000; text-decoration-color: #000000; font-weight: bold\">/usr/local/lib/python3.11/dist-packages/jina/orchestrate/flow/base.py:1999)</span>\n",
              "</pre>\n"
            ]
          },
          "metadata": {}
        },
        {
          "output_type": "display_data",
          "data": {
            "text/plain": [
              "Output()"
            ],
            "application/vnd.jupyter.widget-view+json": {
              "version_major": 2,
              "version_minor": 0,
              "model_id": "4419033732fa4e18b345c97daa399a78"
            }
          },
          "metadata": {}
        },
        {
          "output_type": "stream",
          "name": "stderr",
          "text": [
            "\u001b[1;33mUserWarning: `docs` annotation must be a type hint, got DocumentArray instead, you should maybe remove the string annotation. Default valueDocumentArray will be used instead.\u001b[0m \u001b[1;30m(raised from /usr/local/lib/python3.11/dist-packages/jina/serve/executors/__init__.py:270)\u001b[0m\n",
            "\u001b[1;33mFutureWarning: Importing from timm.models.layers is deprecated, please import via timm.layers\u001b[0m \u001b[1;30m(raised from /usr/local/lib/python3.11/dist-packages/timm/models/layers/__init__.py:48)\u001b[0m\n"
          ]
        },
        {
          "output_type": "display_data",
          "data": {
            "text/plain": [
              "Output()"
            ],
            "application/vnd.jupyter.widget-view+json": {
              "version_major": 2,
              "version_minor": 0,
              "model_id": "e606bd0809224985a7fc2386d9a9980a"
            }
          },
          "metadata": {}
        },
        {
          "output_type": "display_data",
          "data": {
            "text/plain": [],
            "text/html": [
              "<pre style=\"white-space:pre;overflow-x:auto;line-height:normal;font-family:Menlo,'DejaVu Sans Mono',consolas,'Courier New',monospace\"></pre>\n"
            ]
          },
          "metadata": {}
        },
        {
          "output_type": "display_data",
          "data": {
            "text/plain": [
              "\u001b[34mINFO  \u001b[0m clip_t/rep-\u001b[1;36m0\u001b[0m@\u001b[1;36m2276\u001b[0m start server bound to \u001b[1;92m0.0.0.0\u001b[0m:\u001b[1;36m64845\u001b[0m                                    \u001b[2m[04/15/25 12:11:07]\u001b[0m\n"
            ],
            "text/html": [
              "<pre style=\"white-space:pre;overflow-x:auto;line-height:normal;font-family:Menlo,'DejaVu Sans Mono',consolas,'Courier New',monospace\"><span style=\"color: #000080; text-decoration-color: #000080\">INFO  </span> clip_t/rep-<span style=\"color: #008080; text-decoration-color: #008080; font-weight: bold\">0</span>@<span style=\"color: #008080; text-decoration-color: #008080; font-weight: bold\">2276</span> start server bound to <span style=\"color: #00ff00; text-decoration-color: #00ff00; font-weight: bold\">0.0.0.0</span>:<span style=\"color: #008080; text-decoration-color: #008080; font-weight: bold\">64845</span>                                    <span style=\"color: #7f7f7f; text-decoration-color: #7f7f7f\">[04/15/25 12:11:07]</span>\n",
              "</pre>\n"
            ]
          },
          "metadata": {}
        },
        {
          "output_type": "display_data",
          "data": {
            "text/plain": [],
            "text/html": [
              "<pre style=\"white-space:pre;overflow-x:auto;line-height:normal;font-family:Menlo,'DejaVu Sans Mono',consolas,'Courier New',monospace\"></pre>\n"
            ]
          },
          "metadata": {}
        },
        {
          "output_type": "display_data",
          "data": {
            "text/plain": [
              "\u001b[92m─────────────────────────────────────────── \u001b[0m🎉 Flow is ready to serve!\u001b[92m ────────────────────────────────────────────\u001b[0m\n",
              "╭────────────── 🔗 \u001b[1mEndpoint\u001b[0m ───────────────╮\n",
              "│  ⛓       Protocol                  GRPC  │\n",
              "│  🏠         Local         \u001b]8;id=94273;grpc://0.0.0.0:51000\u001b\\\u001b[1;92m0.0.0.0\u001b[0m\u001b]8;;\u001b\\\u001b]8;id=33454;grpc://0.0.0.0:51000\u001b\\:\u001b]8;;\u001b\\\u001b]8;id=736838;grpc://0.0.0.0:51000\u001b\\\u001b[1;36m51000\u001b[0m\u001b]8;;\u001b\\  │\n",
              "│  🔒       Private     \u001b]8;id=251665;grpc://172.28.0.12:51000\u001b\\\u001b[1;92m172.28.0.12\u001b[0m\u001b]8;;\u001b\\\u001b]8;id=662575;grpc://172.28.0.12:51000\u001b\\:\u001b]8;;\u001b\\\u001b]8;id=32464;grpc://172.28.0.12:51000\u001b\\\u001b[1;36m51000\u001b[0m\u001b]8;;\u001b\\  │\n",
              "│  🌍        Public      \u001b]8;id=20006;grpc://34.125.9.8:51000\u001b\\\u001b[1;92m34.125.9.8\u001b[0m\u001b]8;;\u001b\\\u001b]8;id=934585;grpc://34.125.9.8:51000\u001b\\:\u001b]8;;\u001b\\\u001b]8;id=741432;grpc://34.125.9.8:51000\u001b\\\u001b[1;36m51000\u001b[0m\u001b]8;;\u001b\\  │\n",
              "╰──────────────────────────────────────────╯\n"
            ],
            "text/html": [
              "<pre style=\"white-space:pre;overflow-x:auto;line-height:normal;font-family:Menlo,'DejaVu Sans Mono',consolas,'Courier New',monospace\"><span style=\"color: #00ff00; text-decoration-color: #00ff00\">─────────────────────────────────────────── </span>🎉 Flow is ready to serve!<span style=\"color: #00ff00; text-decoration-color: #00ff00\"> ────────────────────────────────────────────</span>\n",
              "╭────────────── 🔗 <span style=\"font-weight: bold\">Endpoint</span> ───────────────╮\n",
              "│  ⛓       Protocol                  GRPC  │\n",
              "│  🏠         Local         <a href=\"grpc://0.0.0.0:51000\" target=\"_blank\"><span style=\"color: #00ff00; text-decoration-color: #00ff00; font-weight: bold\">0.0.0.0</span></a><a href=\"grpc://0.0.0.0:51000\" target=\"_blank\">:</a><a href=\"grpc://0.0.0.0:51000\" target=\"_blank\"><span style=\"color: #008080; text-decoration-color: #008080; font-weight: bold\">51000</span></a>  │\n",
              "│  🔒       Private     <a href=\"grpc://172.28.0.12:51000\" target=\"_blank\"><span style=\"color: #00ff00; text-decoration-color: #00ff00; font-weight: bold\">172.28.0.12</span></a><a href=\"grpc://172.28.0.12:51000\" target=\"_blank\">:</a><a href=\"grpc://172.28.0.12:51000\" target=\"_blank\"><span style=\"color: #008080; text-decoration-color: #008080; font-weight: bold\">51000</span></a>  │\n",
              "│  🌍        Public      <a href=\"grpc://34.125.9.8:51000\" target=\"_blank\"><span style=\"color: #00ff00; text-decoration-color: #00ff00; font-weight: bold\">34.125.9.8</span></a><a href=\"grpc://34.125.9.8:51000\" target=\"_blank\">:</a><a href=\"grpc://34.125.9.8:51000\" target=\"_blank\"><span style=\"color: #008080; text-decoration-color: #008080; font-weight: bold\">51000</span></a>  │\n",
              "╰──────────────────────────────────────────╯\n",
              "</pre>\n"
            ]
          },
          "metadata": {}
        },
        {
          "output_type": "display_data",
          "data": {
            "text/plain": [
              "Do you love open source? Help us improve \u001b]8;id=219998;https://github.com/jina-ai/jina\u001b\\Jina\u001b]8;;\u001b\\ in just \u001b[1;36m1\u001b[0m minute and \u001b[1;36m30\u001b[0m seconds by taking our survey: \n",
              "\u001b[4;94mhttps://10sw1tcpld4.typeform.com/jinasurveyfeb23?\u001b[0m\u001b[4;94mutm_source\u001b[0m\u001b[4;94m=\u001b[0m\u001b[4;94mjina\u001b[0m \u001b[1m(\u001b[0mSet environment variable \u001b[33mJINA_HIDE_SURVEY\u001b[0m=\u001b[1;36m1\u001b[0m to \n",
              "hide this message.\u001b[1m)\u001b[0m\n"
            ],
            "text/html": [
              "<pre style=\"white-space:pre;overflow-x:auto;line-height:normal;font-family:Menlo,'DejaVu Sans Mono',consolas,'Courier New',monospace\">Do you love open source? Help us improve <a href=\"https://github.com/jina-ai/jina\" target=\"_blank\">Jina</a> in just <span style=\"color: #008080; text-decoration-color: #008080; font-weight: bold\">1</span> minute and <span style=\"color: #008080; text-decoration-color: #008080; font-weight: bold\">30</span> seconds by taking our survey: \n",
              "<span style=\"color: #0000ff; text-decoration-color: #0000ff; text-decoration: underline\">https://10sw1tcpld4.typeform.com/jinasurveyfeb23?utm_source=jina</span> <span style=\"font-weight: bold\">(</span>Set environment variable <span style=\"color: #808000; text-decoration-color: #808000\">JINA_HIDE_SURVEY</span>=<span style=\"color: #008080; text-decoration-color: #008080; font-weight: bold\">1</span> to \n",
              "hide this message.<span style=\"font-weight: bold\">)</span>\n",
              "</pre>\n"
            ]
          },
          "metadata": {}
        },
        {
          "output_type": "stream",
          "name": "stderr",
          "text": [
            "\u001b[1;33mRuntimeWarning: coroutine 'Flow._wait_until_all_ready.<locals>._async_wait_ready' was never awaited\u001b[0m \u001b[1;30m(raised from /usr/local/lib/python3.11/dist-packages/jina/orchestrate/flow/base.py:1857)\u001b[0m\n"
          ]
        },
        {
          "output_type": "display_data",
          "data": {
            "text/html": [
              "<img src=\"https://mermaid.ink/svg/ICAgICAgICAgICAgJSV7aW5pdDp7ICAidGhlbWUiOiAiYmFzZSIsICAidGhlbWVWYXJpYWJsZXMiOiB7ICAgICAgInByaW1hcnlDb2xvciI6ICIjZmZmIiwgICAgICAicHJpbWFyeUJvcmRlckNvbG9yIjogIiNmZmYiLCAgICAgICJtYWluQmtnIjogIiMzMkM4Q0QiLCAgICAgICJjbHVzdGVyQmtnIjogIiNFRUVERTc4QyIsICAgICAgInNlY29uZGFyeUJvcmRlckNvbG9yIjogIm5vbmUiLCAgICAgICJ0ZXJ0aWFyeUJvcmRlckNvbG9yIjogIm5vbmUiLCAgICAgICJsaW5lQ29sb3IiOiAiI2E2ZDhkYSIgICAgICB9fX0lJQpmbG93Y2hhcnQgTFI7CnN1YmdyYXBoIGNsaXBfdDsKCmRpcmVjdGlvbiBMUjsKCmNsaXBfdC9yZXAtMFsiInsianR5cGUiOiAiQ0xJUEVuY29kZXIiLCAibWV0YXMiOiB7InB5X21vZHVsZXMiOiBbIi91c3IvbG9jYWwvbGliL3B5dGhvbjMuMTEvZGlzdC1wYWNrYWdlcy9jbGlwX3NlcnZlci9leGVjdXRvcnMvY2xpcF90b3JjaC5weSJdfX0iIl06Ojpwb2Q7CmVuZDsKZ2F0ZXdheXN0YXJ0W2dhdGV3YXldOjo6R0FURVdBWSAtLT4gY2xpcF90Ojo6REVQTE9ZTUVOVDsKY2xpcF90Ojo6REVQTE9ZTUVOVCAtLT4gZ2F0ZXdheWVuZFtnYXRld2F5XTo6OkdBVEVXQVk7CmNsYXNzRGVmIElOU1BFQ1Qgc3Ryb2tlOiNGMjlDOUYKY2xhc3NEZWYgSk9JTl9JTlNQRUNUIHN0cm9rZTojRjI5QzlGCmNsYXNzRGVmIEdBVEVXQVkgZmlsbDpub25lLGNvbG9yOiMwMDAsc3Ryb2tlOm5vbmUKY2xhc3NEZWYgSU5TUEVDVF9BVVhfUEFTUyBzdHJva2UtZGFzaGFycmF5OiAyIDIKY2xhc3NEZWYgSEVBRFRBSUwgZmlsbDojMzJDOENEMUQKCmNsYXNzRGVmIEVYVEVSTkFMIGZpbGw6I2ZmZixzdHJva2U6IzMyQzhDRA==\"/>"
            ],
            "text/plain": [
              "<IPython.core.display.Image object>"
            ]
          },
          "metadata": {}
        }
      ]
    },
    {
      "cell_type": "markdown",
      "source": [
        "Remember to close it via `f.close()` when you don't use it. But let's keep it open for now."
      ],
      "metadata": {
        "id": "2BOYxmpd8YSE",
        "pycharm": {
          "name": "#%% md\n"
        }
      }
    },
    {
      "cell_type": "markdown",
      "source": [
        "## 5. Set up forwarding\n",
        "\n",
        "By default Flow uses gRPC protocol, it is highly-efficient and feature-rich. So in this tutorial, we will use gRPC protocol and use `ngrok` for forwarding. It is possible and in fact slighly easier to set up when using `Flow(protocol='http')`, [please read the turorial here](https://colab.research.google.com/github/jina-ai/jina/blob/master/docs/Using_Jina_on_Colab.ipynb#scrollTo=0ASjGLBhXono) here I won't repeat again.\n",
        "\n",
        "\n",
        "You will need to first sign up at https://dashboard.ngrok.com/signup (http do not need register, that's why I said it is easier)\n",
        "\n",
        "After signing up, you can get a token. Then simply add your token via (replacing `YOUR_TOKEN_HERE`)"
      ],
      "metadata": {
        "id": "1lTqYEwezDTP",
        "pycharm": {
          "name": "#%% md\n"
        }
      }
    },
    {
      "cell_type": "code",
      "source": [
        "!pip install pyngrok\n",
        "\n",
        "# remember to replace to your token! otherwise i can see your service, i mean i dont really have time to see it but nonetheless\n",
        "!ngrok authtoken 2vlUs3zz3AIuHoRNJUGXbiKzbKs_WFosy7xJLiYRmjd2wFJj"
      ],
      "metadata": {
        "id": "PYQPKek-oG1a",
        "pycharm": {
          "name": "#%%\n"
        }
      },
      "execution_count": null,
      "outputs": []
    },
    {
      "cell_type": "code",
      "source": [
        "!ngrok tcp 51000 --log \"stdout\""
      ],
      "metadata": {
        "id": "2Hacpj4qn9nx",
        "pycharm": {
          "name": "#%%\n"
        }
      },
      "execution_count": null,
      "outputs": []
    },
    {
      "cell_type": "markdown",
      "source": [
        "At the last line, you should see something like:\n",
        "\n",
        "```\n",
        "t=2022-06-11T20:29:11+0000 lvl=info msg=\"started tunnel\" obj=tunnels name=command_line addr=//localhost:54321 url=tcp://6.tcp.ngrok.io:18096\n",
        "```\n",
        "\n",
        "Grab the text after `url=tcp://` in my case it is `6.tcp.ngrok.io:18096`.\n",
        "\n",
        "Now build a client using this address from your local laptop/Python environment.\n",
        "\n",
        "Copy paste the code below to your local Python, remmeber to change your address.\n",
        "\n",
        "**Remember, if your last line is `url=tcp://6.tcp.ngrok.io:18096` then you should set `Client('grpc://6.tcp.ngrok.io:18096')`**\n",
        "\n",
        "### Try Embedding Task from Local\n",
        "\n",
        "```python\n",
        "# pip install clip-client\n",
        "from clip_client import Client\n",
        "\n",
        "c = Client('grpc://6.tcp.ngrok.io:18096')\n",
        "\n",
        "r = c.encode(\n",
        "    [\n",
        "        'First do it',\n",
        "        'then do it right',\n",
        "        'then do it better',\n",
        "        'https://picsum.photos/200',\n",
        "    ]\n",
        ")\n",
        "print(r)\n",
        "```\n",
        "\n",
        "And you will get\n",
        "\n",
        "```text\n",
        "[[ 0.03494263 -0.23510742  0.0104599  ... -0.5229492  -0.10021973\n",
        "  -0.08685303]\n",
        " [-0.06793213 -0.0032444   0.01506805 ... -0.50341797 -0.06143188\n",
        "  -0.08520508]\n",
        " [ 0.15063477 -0.07922363 -0.06530762 ... -0.46484375 -0.08526611\n",
        "   0.04324341]\n",
        " [-0.16088867  0.10552979 -0.20581055 ... -0.41381836  0.19543457\n",
        "   0.05718994]]\n",
        "```\n",
        "\n",
        "Showing the connection is success!\n",
        "\n",
        "\n",
        "### Try Ranking Task from Local\n",
        "\n",
        "```python\n",
        "from docarray import Document\n",
        "\n",
        "from clip_client import Client\n",
        "\n",
        "c = Client(server='grpc://6.tcp.ngrok.io:18096/rank')\n",
        "\n",
        "r = c.rank(\n",
        "    [\n",
        "        Document(\n",
        "            uri='https://picsum.photos/id/1/300/300',\n",
        "            matches=[\n",
        "                Document(text=f'a photo of a {p}')\n",
        "                for p in (\n",
        "                    'man',\n",
        "                    'woman',\n",
        "                )\n",
        "            ],\n",
        "        )\n",
        "    ]\n",
        ")\n",
        "\n",
        "print(r['@m', ['text', 'scores']])\n",
        "```\n",
        "\n",
        "```\n",
        "[['a photo of a man', 'a photo of a woman'], [defaultdict(<class 'docarray.score.NamedScore'>, {'clip_score': {'value': 0.5806832313537598, 'op_name': 'softmax'}, 'clip_score_cosine': {'value': 0.2178003191947937, 'op_name': 'cosine'}}), defaultdict(<class 'docarray.score.NamedScore'>, {'clip_score': {'value': 0.41931676864624023, 'op_name': 'softmax'}, 'clip_score_cosine': {'value': 0.21454453468322754, 'op_name': 'cosine'}})]]\n",
        "```\n",
        "\n",
        "\n",
        "Now enjoy the free GPU/TPU to build your awesome CAS applications!"
      ],
      "metadata": {
        "id": "Fzxt8j3Bz9Nu",
        "pycharm": {
          "name": "#%% md\n"
        }
      }
    },
    {
      "cell_type": "code",
      "source": [
        "f.close()"
      ],
      "metadata": {
        "id": "wzj0pb7qo56c",
        "pycharm": {
          "name": "#%%\n"
        }
      },
      "execution_count": null,
      "outputs": []
    },
    {
      "cell_type": "markdown",
      "source": [
        "# Push to the Limit\n",
        "\n",
        "Now let's use the biggest `ViT-L/14-336px` and fully leverage all VRAM with 4 replicas, lets see if it works."
      ],
      "metadata": {
        "id": "c6yNVg69-vaw",
        "pycharm": {
          "name": "#%% md\n"
        }
      }
    },
    {
      "cell_type": "code",
      "source": [
        "flow_yaml = f'''\n",
        "jtype: Flow\n",
        "with:\n",
        "  port: 51000\n",
        "executors:\n",
        "  - name: clip_t\n",
        "    uses:\n",
        "      jtype: CLIPEncoder\n",
        "      metas:\n",
        "        py_modules:\n",
        "          - {cas_path}/executors/clip_torch.py\n",
        "    replicas: 4\n",
        "'''"
      ],
      "metadata": {
        "id": "uHHWk3WF_DaO",
        "pycharm": {
          "name": "#%%\n"
        }
      },
      "execution_count": null,
      "outputs": []
    },
    {
      "cell_type": "code",
      "source": [
        "from jina import Flow\n",
        "\n",
        "f = Flow.load_config(flow_yaml)\n",
        "f.start()"
      ],
      "metadata": {
        "id": "0AGcGasu_JIv",
        "pycharm": {
          "name": "#%%\n"
        }
      },
      "execution_count": null,
      "outputs": []
    },
    {
      "cell_type": "code",
      "source": [
        "!ngrok tcp 51000 --log \"stdout\""
      ],
      "metadata": {
        "id": "DQzvwOF3_K6U",
        "pycharm": {
          "name": "#%%\n"
        }
      },
      "execution_count": null,
      "outputs": []
    },
    {
      "cell_type": "markdown",
      "source": [
        "Yay it works!"
      ],
      "metadata": {
        "id": "8T2z6HXd_hKB",
        "pycharm": {
          "name": "#%% md\n"
        }
      }
    },
    {
      "cell_type": "code",
      "source": [],
      "metadata": {
        "id": "4-y_vbHW_acV",
        "pycharm": {
          "name": "#%%\n"
        }
      },
      "execution_count": null,
      "outputs": []
    }
  ]
}